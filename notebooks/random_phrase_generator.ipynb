{
 "cells": [
  {
   "cell_type": "markdown",
   "id": "94c55597",
   "metadata": {},
   "source": [
    "# Importando as bibliotecas"
   ]
  },
  {
   "cell_type": "code",
   "execution_count": 8,
   "id": "88525916",
   "metadata": {},
   "outputs": [],
   "source": [
    "import numpy as np\n",
    "import matplotlib.pyplot as plt\n",
    "import json\n",
    "from tqdm import tqdm\n",
    "import requests\n",
    "import random as rd"
   ]
  },
  {
   "cell_type": "markdown",
   "id": "3e408e18",
   "metadata": {},
   "source": [
    "# Carregando os dados dos endereços\n",
    "\n",
    "Isso é feito para se extrair a média e o desvio padrão dos dados para se fazer os dados."
   ]
  },
  {
   "cell_type": "code",
   "execution_count": 9,
   "id": "94d5e480",
   "metadata": {},
   "outputs": [],
   "source": [
    "with open('address_syntetic.txt', 'r') as f:\n",
    "       data = f.readlines()\n",
    "\n",
    "for i in range(len(data)):\n",
    "    data[i] = data[i].replace(\"\\n\", \"\")\n"
   ]
  },
  {
   "cell_type": "markdown",
   "id": "b19b3e5c",
   "metadata": {},
   "source": [
    "# Função que conta número de palaras"
   ]
  },
  {
   "cell_type": "code",
   "execution_count": 10,
   "id": "bb5a9137",
   "metadata": {},
   "outputs": [],
   "source": [
    "def count_word(sentence):\n",
    "    return len(sentence.split())"
   ]
  },
  {
   "cell_type": "markdown",
   "id": "6b609c57",
   "metadata": {},
   "source": [
    "# Conta o número de palavras em todos os endereços"
   ]
  },
  {
   "cell_type": "code",
   "execution_count": 11,
   "id": "dd156a12",
   "metadata": {},
   "outputs": [],
   "source": [
    "n_palavra = []\n",
    "\n",
    "for i in range(len(data)):\n",
    "    n_palavra.append(count_word(data[i]))"
   ]
  },
  {
   "cell_type": "markdown",
   "id": "0a0da31f",
   "metadata": {},
   "source": [
    "# Calcula-se a média e a variância dos dados\n",
    "\n",
    "Isto é feito para mimicar os dados e forçar a rede neural a não olhar o tamanho da frase, mas sim o seu conteúdo."
   ]
  },
  {
   "cell_type": "code",
   "execution_count": 12,
   "id": "637f626d",
   "metadata": {},
   "outputs": [
    {
     "name": "stdout",
     "output_type": "stream",
     "text": [
      "8.361576027689535\n",
      "2.0203157311991995\n"
     ]
    }
   ],
   "source": [
    "mean = sum(n_palavra)/len(n_palavra)\n",
    "print(mean)\n",
    "std = np.std(n_palavra)\n",
    "print(std)"
   ]
  },
  {
   "cell_type": "code",
   "execution_count": 17,
   "id": "6348b07c",
   "metadata": {},
   "outputs": [
    {
     "data": {
      "image/png": "[encoded data removed]",
      "text/plain": [
       "<Figure size 432x288 with 1 Axes>"
      ]
     },
     "metadata": {
      "needs_background": "light"
     },
     "output_type": "display_data"
    }
   ],
   "source": [
    "plt.hist(n_palavra, bins = 18)\n",
    "plt.show()"
   ]
  },
  {
   "cell_type": "markdown",
   "id": "63a90827",
   "metadata": {},
   "source": [
    "# Cria a base de dados de frases aleatórias da wikipedia"
   ]
  },
  {
   "cell_type": "code",
   "execution_count": 34,
   "id": "c8800de3",
   "metadata": {},
   "outputs": [],
   "source": [
    "import spacy\n",
    "from spacy import displacy\n",
    "from IPython.core.display import HTML\n",
    "from spacy.util import minibatch, compounding\n",
    "from pathlib import Path\n",
    "from spacy.scorer import Scorer\n",
    "\n",
    "import random\n",
    "\n",
    "nlp = spacy.load(\"pt_core_news_lg\")"
   ]
  },
  {
   "cell_type": "markdown",
   "id": "830deb9b",
   "metadata": {},
   "source": [
    "# A função que irá criar locais\n",
    "\n",
    "Dado um título da wikipedia, ele ira tentar achar um local no google maps. Irá ler o display_name dele, e irá passar uma IA (spacy) que retirará todos nos nomes que remetem a localizações."
   ]
  },
  {
   "cell_type": "code",
   "execution_count": 47,
   "id": "5b34b959",
   "metadata": {},
   "outputs": [],
   "source": [
    "def look_for_a_location(text):\n",
    "        endereco = text\n",
    "        response = requests.get(f\"https://nominatim.openstreetmap.org/search.php?q={endereco}&format=json&countrycodes=BR&limit=1\")\n",
    "        response.raise_for_status()\n",
    "        data = response.json()\n",
    "        loc = []\n",
    "        if len(data) > 0:\n",
    "            disp_name = data[0]['display_name']\n",
    "            endereco  = disp_name\n",
    "            \n",
    "            doc = nlp(endereco)\n",
    "            for ent in doc.ents:\n",
    "                if ent.label_ == 'LOC':\n",
    "                    loc.append(ent.text)\n",
    "        return loc\n",
    "\n"
   ]
  },
  {
   "cell_type": "markdown",
   "id": "9d46fbc6",
   "metadata": {},
   "source": [
    " # Parte principal da criação de dados\n",
    " \n",
    " Ele vai criar 3 listas:\n",
    " \n",
    " * not_addresses: partes de texto aleatória retirar de artigos da wikipedia\n",
    " * locais: localizações retiradas do google maps\n",
    " * mixed_data: seções de texto que podem conter partes de endereços/locais"
   ]
  },
  {
   "cell_type": "code",
   "execution_count": 78,
   "id": "d1de90ef",
   "metadata": {
    "scrolled": false
   },
   "outputs": [
    {
     "name": "stderr",
     "output_type": "stream",
     "text": [
      "1951it [00:52, 37.02it/s]\n"
     ]
    },
    {
     "ename": "KeyboardInterrupt",
     "evalue": "",
     "output_type": "error",
     "traceback": [
      "\u001b[1;31m---------------------------------------------------------------------------\u001b[0m",
      "\u001b[1;31mKeyboardInterrupt\u001b[0m                         Traceback (most recent call last)",
      "\u001b[1;32m<ipython-input-78-0fdfabd033e9>\u001b[0m in \u001b[0;36m<module>\u001b[1;34m\u001b[0m\n\u001b[0;32m     29\u001b[0m             \u001b[0mselected_txt\u001b[0m \u001b[1;33m=\u001b[0m \u001b[1;34m\" \"\u001b[0m\u001b[1;33m.\u001b[0m\u001b[0mjoin\u001b[0m\u001b[1;33m(\u001b[0m\u001b[0msplitted\u001b[0m\u001b[1;33m[\u001b[0m\u001b[0mrandom_start_pos\u001b[0m\u001b[1;33m:\u001b[0m\u001b[1;33m(\u001b[0m\u001b[0mrandom_start_pos\u001b[0m \u001b[1;33m+\u001b[0m \u001b[0mrandom_word_count\u001b[0m\u001b[1;33m)\u001b[0m\u001b[1;33m]\u001b[0m\u001b[1;33m)\u001b[0m\u001b[1;33m\u001b[0m\u001b[1;33m\u001b[0m\u001b[0m\n\u001b[0;32m     30\u001b[0m \u001b[1;33m\u001b[0m\u001b[0m\n\u001b[1;32m---> 31\u001b[1;33m             \u001b[1;32mfor\u001b[0m \u001b[0mi\u001b[0m \u001b[1;32min\u001b[0m \u001b[0mrange\u001b[0m\u001b[1;33m(\u001b[0m\u001b[1;36m1\u001b[0m\u001b[1;33m,\u001b[0m\u001b[0mlen\u001b[0m\u001b[1;33m(\u001b[0m\u001b[0msplitted\u001b[0m\u001b[1;33m)\u001b[0m\u001b[1;33m-\u001b[0m\u001b[1;36m1\u001b[0m\u001b[1;33m)\u001b[0m\u001b[1;33m:\u001b[0m\u001b[1;33m\u001b[0m\u001b[1;33m\u001b[0m\u001b[0m\n\u001b[0m\u001b[0;32m     32\u001b[0m                 \u001b[0mjuntado\u001b[0m \u001b[1;33m=\u001b[0m \u001b[1;34m\" \"\u001b[0m\u001b[1;33m.\u001b[0m\u001b[0mjoin\u001b[0m\u001b[1;33m(\u001b[0m\u001b[0msplitted\u001b[0m\u001b[1;33m[\u001b[0m\u001b[0mi\u001b[0m\u001b[1;33m-\u001b[0m\u001b[1;36m1\u001b[0m\u001b[1;33m:\u001b[0m\u001b[0mi\u001b[0m\u001b[1;33m+\u001b[0m\u001b[1;36m1\u001b[0m\u001b[1;33m]\u001b[0m\u001b[1;33m)\u001b[0m\u001b[1;33m\u001b[0m\u001b[1;33m\u001b[0m\u001b[0m\n\u001b[0;32m     33\u001b[0m                 \u001b[1;32mif\u001b[0m \u001b[0mjuntado\u001b[0m \u001b[1;32min\u001b[0m \u001b[0mlocais\u001b[0m\u001b[1;33m:\u001b[0m\u001b[1;33m\u001b[0m\u001b[1;33m\u001b[0m\u001b[0m\n",
      "\u001b[1;31mKeyboardInterrupt\u001b[0m: "
     ]
    }
   ],
   "source": [
    "not_addresses = []\n",
    "locais = []\n",
    "mixed_data = []\n",
    "\n",
    "wikis = tqdm(open('ptwiki-latest.json', 'r'), position=0, leave=True)\n",
    "\n",
    "for article in wikis:\n",
    "    \n",
    "    article = json.loads(article)\n",
    "\n",
    "    # txt = article['section_texts'][0]\n",
    "    if len(locais) < 100:\n",
    "        wikis.set_postfix({'len(locais)': len(locais)})\n",
    "        locs = look_for_a_location(article['title'])\n",
    "        for loc in locs:\n",
    "            if loc and (not (loc in locais)):\n",
    "                locais.append(loc)\n",
    "    for section in article['section_texts']:\n",
    "        txt = section\n",
    "        splitted = txt.split()\n",
    "        words = len(splitted)\n",
    "        if words>100:\n",
    "            \n",
    "            \n",
    "            random_word_count = int(np.random.normal(loc = mean, scale=std))\n",
    "\n",
    "            random_start_pos = rd.randint(0,words-random_word_count*2)\n",
    "            \n",
    "            selected_txt = \" \".join(splitted[random_start_pos:(random_start_pos + random_word_count)])\n",
    "\n",
    "            for i in range(1,len(splitted)-1):\n",
    "                juntado = \" \".join(splitted[i-1:i+1])\n",
    "                if juntado in locais:\n",
    "                    random_word_count = int(np.random.normal(loc = mean, scale=std))\n",
    "                    start_position = rd.randint(i-random_word_count-1, i+1)\n",
    "                    mixed_data.append(\" \".join(splitted[start_position:(start_position + random_word_count)]))\n",
    "                \n",
    "            \n",
    "\n",
    "            not_addresses.append(selected_txt)\n",
    "            break\n",
    "\n"
   ]
  },
  {
   "cell_type": "markdown",
   "id": "80ea0795",
   "metadata": {},
   "source": [
    "# Salvando as listas\n",
    "\n",
    "Isto é feito separadamente devido ao tempo de processamento da operação anterior, que é aconselhável terminá-la por volta da iteração 60 000."
   ]
  },
  {
   "cell_type": "code",
   "execution_count": 60,
   "id": "476052ee",
   "metadata": {},
   "outputs": [],
   "source": [
    "with open('not_address_syntetic.txt', 'w') as f:\n",
    "        for item in not_addresses:\n",
    "            try:\n",
    "                f.writelines([\"%s\\n\" % item])\n",
    "            except:\n",
    "                pass\n",
    "        \n",
    "with open('locais.txt', 'w') as f:\n",
    "        for item in locais:\n",
    "            try:\n",
    "                f.writelines([\"%s\\n\" % item])\n",
    "            except:\n",
    "                pass\n",
    "            \n",
    "with open('mixed_locais.txt', 'w') as f:\n",
    "        for item in mixed_data:\n",
    "            try:\n",
    "                f.writelines([\"%s\\n\" % item])\n",
    "            except:\n",
    "                pass"
   ]
  },
  {
   "cell_type": "markdown",
   "id": "49b0f8be",
   "metadata": {},
   "source": [
    "# Analisando os dados"
   ]
  },
  {
   "cell_type": "code",
   "execution_count": 80,
   "id": "0f32a5df",
   "metadata": {},
   "outputs": [
    {
     "name": "stdout",
     "output_type": "stream",
     "text": [
      "7.345664739884393\n",
      "2.066145007969924\n"
     ]
    },
    {
     "data": {
      "image/png": "[encoded data removed]",
      "text/plain": [
       "<Figure size 432x288 with 1 Axes>"
      ]
     },
     "metadata": {
      "needs_background": "light"
     },
     "output_type": "display_data"
    }
   ],
   "source": [
    "n_palavra = []\n",
    "\n",
    "for i in range(len(not_addresses)):\n",
    "    n_palavra.append(count_word(not_addresses[i]))\n",
    "\n",
    "mean = sum(n_palavra)/len(n_palavra)\n",
    "print(mean)\n",
    "std = np.std(n_palavra)\n",
    "print(std)\n",
    "plt.hist(n_palavra, bins = 13)\n",
    "plt.show()"
   ]
  },
  {
   "cell_type": "markdown",
   "id": "a5d82000",
   "metadata": {},
   "source": [
    "# Mostra exemplos da base de dados\n",
    "\n",
    "Amostra a base de dados para ver se não deu erro durante a montagem e a base de dados foi montada com sucesso."
   ]
  },
  {
   "cell_type": "code",
   "execution_count": 87,
   "id": "63bd6b07",
   "metadata": {},
   "outputs": [
    {
     "name": "stdout",
     "output_type": "stream",
     "text": [
      "24718\n",
      "18955\n",
      "5000\n",
      "13917\n"
     ]
    }
   ],
   "source": [
    "with open('address_syntetic3.txt', 'r') as f:\n",
    "       data = f.readlines()\n",
    "\n",
    "for i in range(len(data)):\n",
    "    data[i] = data[i].replace(\"\\n\", \"\")\n",
    "    \n",
    "with open('not_address_syntetic.txt', 'r') as f:\n",
    "       data1 = f.readlines()\n",
    "\n",
    "for i in range(len(data1)):\n",
    "    data1[i] = data1[i].replace(\"\\n\", \"\")\n",
    "    \n",
    "with open('locais.txt', 'r') as f:\n",
    "    data2 = f.readlines()\n",
    "\n",
    "for i in range(len(data2)):\n",
    "    data2[i] = data2[i].replace(\"\\n\", \"\")\n",
    "\n",
    "with open('mixed_locais.txt', 'r') as f:\n",
    "    data3 = f.readlines()\n",
    "\n",
    "for i in range(len(data3)):\n",
    "    data3[i] = data3[i].replace(\"\\n\", \"\")\n",
    "\n",
    "print(len(data))\n",
    "print(len(data1))\n",
    "print(len(data2))\n",
    "print(len(data3))"
   ]
  },
  {
   "cell_type": "markdown",
   "id": "a2001578",
   "metadata": {},
   "source": [
    "# Recria os arquivos\n",
    "\n",
    "Salva com outro nome."
   ]
  },
  {
   "cell_type": "code",
   "execution_count": 88,
   "id": "0592d797",
   "metadata": {},
   "outputs": [],
   "source": [
    "\n",
    "data.extend(data2)\n",
    "data1.extend(data3)\n",
    "\n",
    "\n",
    "with open('address_syntetic4.txt', 'w') as f:\n",
    "        for item in data:\n",
    "            try:\n",
    "                f.writelines([\"%s\\n\" % item])\n",
    "            except:\n",
    "                pass\n",
    "            \n",
    "with open('not_address_syntetic2.txt', 'w') as f:\n",
    "        for item in data1:\n",
    "            try:\n",
    "                f.writelines([\"%s\\n\" % item])\n",
    "            except:\n",
    "                pass"
   ]
  },
  {
   "cell_type": "code",
   "execution_count": null,
   "id": "9bfa1eb5",
   "metadata": {},
   "outputs": [],
   "source": []
  }
 ],
 "metadata": {
  "kernelspec": {
   "display_name": "Python 3",
   "language": "python",
   "name": "python3"
  },
  "language_info": {
   "codemirror_mode": {
    "name": "ipython",
    "version": 3
   },
   "file_extension": ".py",
   "mimetype": "text/x-python",
   "name": "python",
   "nbconvert_exporter": "python",
   "pygments_lexer": "ipython3",
   "version": "3.9.0"
  }
 },
 "nbformat": 4,
 "nbformat_minor": 5
}
