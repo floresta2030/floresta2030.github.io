{
 "cells": [
  {
   "cell_type": "markdown",
   "id": "7661795b",
   "metadata": {},
   "source": [
    "# Importando bibliotecas"
   ]
  },
  {
   "cell_type": "code",
   "execution_count": 3,
   "id": "8872d359",
   "metadata": {},
   "outputs": [
    {
     "name": "stdout",
     "output_type": "stream",
     "text": [
      "No GPU was detected. LSTMs and CNNs can be very slow without a GPU.\n"
     ]
    }
   ],
   "source": [
    "\n",
    "import numpy as np\n",
    "import pandas as pd\n",
    "import random as rd\n"
   ]
  },
  {
   "cell_type": "markdown",
   "id": "1fa59c8c",
   "metadata": {},
   "source": [
    "# Lê o arquivo\n",
    "\n",
    "O arquivo contém dados de endereços junto com a geolocalização (latitude e longitude)\n",
    "\n",
    "O problema é que o arquivo é estruturado, devemos preparar os dados para serem aprendidos por uma IA."
   ]
  },
  {
   "cell_type": "code",
   "execution_count": 1,
   "id": "f9dadd78",
   "metadata": {},
   "outputs": [
    {
     "name": "stdout",
     "output_type": "stream",
     "text": [
      "<class 'pandas.core.frame.DataFrame'>\n",
      "Int64Index: 63274 entries, 0 to 63273\n",
      "Data columns (total 12 columns):\n",
      " #   Column        Non-Null Count  Dtype  \n",
      "---  ------        --------------  -----  \n",
      " 0   Unnamed: 0.1  63274 non-null  int64  \n",
      " 1   LON           63274 non-null  float64\n",
      " 2   LAT           63274 non-null  float64\n",
      " 3   NUMBER        62304 non-null  object \n",
      " 4   STREET        63274 non-null  object \n",
      " 5   UNIT          25556 non-null  object \n",
      " 6   CITY          63241 non-null  object \n",
      " 7   DISTRICT      0 non-null      float64\n",
      " 8   REGION        62815 non-null  object \n",
      " 9   POSTCODE      63274 non-null  object \n",
      " 10  ID            0 non-null      float64\n",
      " 11  HASH          63274 non-null  object \n",
      "dtypes: float64(4), int64(1), object(7)\n",
      "memory usage: 6.3+ MB\n"
     ]
    },
    {
     "data": {
      "text/html": [
       "<div>\n",
       "<style scoped>\n",
       "    .dataframe tbody tr th:only-of-type {\n",
       "        vertical-align: middle;\n",
       "    }\n",
       "\n",
       "    .dataframe tbody tr th {\n",
       "        vertical-align: top;\n",
       "    }\n",
       "\n",
       "    .dataframe thead th {\n",
       "        text-align: right;\n",
       "    }\n",
       "</style>\n",
       "<table border=\"1\" class=\"dataframe\">\n",
       "  <thead>\n",
       "    <tr style=\"text-align: right;\">\n",
       "      <th></th>\n",
       "      <th>Unnamed: 0.1</th>\n",
       "      <th>LON</th>\n",
       "      <th>LAT</th>\n",
       "      <th>DISTRICT</th>\n",
       "      <th>ID</th>\n",
       "    </tr>\n",
       "  </thead>\n",
       "  <tbody>\n",
       "    <tr>\n",
       "      <th>count</th>\n",
       "      <td>63274.000000</td>\n",
       "      <td>63274.000000</td>\n",
       "      <td>63274.000000</td>\n",
       "      <td>0.0</td>\n",
       "      <td>0.0</td>\n",
       "    </tr>\n",
       "    <tr>\n",
       "      <th>mean</th>\n",
       "      <td>318012.685005</td>\n",
       "      <td>-45.877759</td>\n",
       "      <td>-17.390369</td>\n",
       "      <td>NaN</td>\n",
       "      <td>NaN</td>\n",
       "    </tr>\n",
       "    <tr>\n",
       "      <th>std</th>\n",
       "      <td>183068.666365</td>\n",
       "      <td>6.015264</td>\n",
       "      <td>8.067416</td>\n",
       "      <td>NaN</td>\n",
       "      <td>NaN</td>\n",
       "    </tr>\n",
       "    <tr>\n",
       "      <th>min</th>\n",
       "      <td>6.000000</td>\n",
       "      <td>-73.055613</td>\n",
       "      <td>-33.683350</td>\n",
       "      <td>NaN</td>\n",
       "      <td>NaN</td>\n",
       "    </tr>\n",
       "    <tr>\n",
       "      <th>25%</th>\n",
       "      <td>159718.000000</td>\n",
       "      <td>-49.332333</td>\n",
       "      <td>-23.395961</td>\n",
       "      <td>NaN</td>\n",
       "      <td>NaN</td>\n",
       "    </tr>\n",
       "    <tr>\n",
       "      <th>50%</th>\n",
       "      <td>318041.500000</td>\n",
       "      <td>-46.395296</td>\n",
       "      <td>-20.099695</td>\n",
       "      <td>NaN</td>\n",
       "      <td>NaN</td>\n",
       "    </tr>\n",
       "    <tr>\n",
       "      <th>75%</th>\n",
       "      <td>476779.500000</td>\n",
       "      <td>-41.856481</td>\n",
       "      <td>-10.325681</td>\n",
       "      <td>NaN</td>\n",
       "      <td>NaN</td>\n",
       "    </tr>\n",
       "    <tr>\n",
       "      <th>max</th>\n",
       "      <td>633778.000000</td>\n",
       "      <td>-34.807311</td>\n",
       "      <td>4.490910</td>\n",
       "      <td>NaN</td>\n",
       "      <td>NaN</td>\n",
       "    </tr>\n",
       "  </tbody>\n",
       "</table>\n",
       "</div>"
      ],
      "text/plain": [
       "        Unnamed: 0.1           LON           LAT  DISTRICT   ID\n",
       "count   63274.000000  63274.000000  63274.000000       0.0  0.0\n",
       "mean   318012.685005    -45.877759    -17.390369       NaN  NaN\n",
       "std    183068.666365      6.015264      8.067416       NaN  NaN\n",
       "min         6.000000    -73.055613    -33.683350       NaN  NaN\n",
       "25%    159718.000000    -49.332333    -23.395961       NaN  NaN\n",
       "50%    318041.500000    -46.395296    -20.099695       NaN  NaN\n",
       "75%    476779.500000    -41.856481    -10.325681       NaN  NaN\n",
       "max    633778.000000    -34.807311      4.490910       NaN  NaN"
      ]
     },
     "execution_count": 1,
     "metadata": {},
     "output_type": "execute_result"
    }
   ],
   "source": [
    "\n",
    "df = pd.read_csv(\"reduced2.csv\", index_col = 0)\n",
    "df.info()\n",
    "df.head()\n",
    "\n",
    "df.describe()"
   ]
  },
  {
   "cell_type": "markdown",
   "id": "a6a2f9c2",
   "metadata": {},
   "source": [
    "# Função responsável por aleatorizar o nome do endereço\n",
    "\n",
    "Ele prepara o dado para ser lido pela inteligencia artificial, alterando-se de várias maneiras a forma como o endereço é escrito."
   ]
  },
  {
   "cell_type": "code",
   "execution_count": null,
   "id": "8211cb74",
   "metadata": {},
   "outputs": [],
   "source": [
    "def random_address_generator(num, rua, ext, city, dist, reg, cep):\n",
    "\n",
    "    long = rd.randint(0,1)\n",
    "    if long:\n",
    "        number_pos = [\"\"]\n",
    "    else:\n",
    "        number_pos = [\"nº \",\"número \",\"\"]\n",
    "\n",
    "    try:\n",
    "        if num:\n",
    "            int(num)\n",
    "        else:\n",
    "            number_pos = [\"\"]\n",
    "    except ValueError:\n",
    "        number_pos = [\"\"]\n",
    "\n",
    "    num_pos = rd.choice(number_pos)\n",
    "    has_ext = rd.randint(0,1)\n",
    "    \n",
    "    take_out_coma_prob = 0.2\n",
    "\n",
    "    comas = rd.choices([\",\",''], weights = [1, take_out_coma_prob], k = 4) \n",
    "    \n",
    "    if long:\n",
    "        spaces = [rd.choice([\" \",'']) for i in range(4)]\n",
    "        bars = [rd.choice([\"/\",'-']) for i in range(2)]\n",
    "        address = f\"{rua}{comas[0]} {num_pos}{num}{comas[1]} {city}{spaces[0]}{bars[0]}{spaces[1]}{reg}{spaces[2]}{bars[1]}{spaces[3]}CEP {cep}\"    # RUA EXPEDICIONÁRIO BRASILIO PINTO DE ALMEIDA, 42, Guararema-SP - CEP 08900-000\n",
    "    else:\n",
    "        more_things = rd.choice([\"bairro \", \"\"])\n",
    "        if has_ext and ext:\n",
    "            address = f\"{rua}{comas[0]} {num_pos}{num}{comas[1]} {ext}{comas[2]} {more_things}{city}\"                    # Rua Admeleto Gasparini, número 1949, bairro Itaoca\n",
    "        else:\n",
    "            if dist != 0:\n",
    "                address = f\"{rua}{comas[0]} {num_pos}{num}{comas[1]} {more_things}{dist}\"     # Rua Angico, fundos do nº 39, Taquaral\n",
    "            else:\n",
    "                address = f\"{rua}{comas[0]} {num_pos}{num}{comas[1]} {more_things}{city}\"     # Rua Angico, fundos do nº 39, Guararema\n",
    "    return address"
   ]
  },
  {
   "cell_type": "markdown",
   "id": "00f5aa1e",
   "metadata": {},
   "source": [
    "# Executa e escreve o arquivo .txt"
   ]
  },
  {
   "cell_type": "code",
   "execution_count": 65,
   "id": "05a436e3",
   "metadata": {},
   "outputs": [
    {
     "name": "stdout",
     "output_type": "stream",
     "text": [
      "['RUA  GERALDO BARBOSA nº 75 FRENTE, Acrelândia', 'RUA  DOS PIONEIROS 2044, Acrelândia/AC / CEP 69945-000', 'RUA  JOSE ALVES DOS SANTOS, 146, Acrelândia/AC/ CEP 69945-000', 'RUA  PEDRO RODRIGUES, 50, Acrelândia - AC -CEP 69945-000', 'RAMAL  GRANADA, 129 CCE, Acrelândia/AC - CEP 69945-000', 'RAMAL  NOVO ENCANTO, 51 CCE, Acrelândia/ AC -CEP 69945-000', 'RAMAL  DO KM 20, 52 CCE, Acrelândia/AC/ CEP 69945-000', 'RUA  RAIMUNDO CHAAR, 462, Assis Brasil /AC- CEP 69935-000', 'AVENIDA PRESIDENTE GETULIO VARGAS SN, Assis Brasil/ AC /CEP 69935-000', 'RAMAL SAO JOSE, 1952, bairro Assis Brasil']\n"
     ]
    }
   ],
   "source": [
    "nums = np.array(df['NUMBER'])\n",
    "ruas = np.array(df['STREET'])\n",
    "exts = np.array(df['UNIT'].fillna(0))\n",
    "cids = np.array(df['CITY'])\n",
    "dists = np.array(df['DISTRICT'].fillna(0))\n",
    "regs = np.array(df['REGION'])\n",
    "ceps = np.array(df['POSTCODE'])\n",
    "\n",
    "addresses = [random_address_generator(nums[i], ruas[i], exts[i], cids[i], dists[i], regs[i], ceps[i]) for i in range(len(nums))]\n",
    "\n",
    "print(addresses[:10])\n",
    "\n",
    "with open('address_syntetic.txt', 'w') as f:\n",
    "        for item in addresses:\n",
    "            try:\n",
    "                f.writelines([\"%s\\n\" % item])\n",
    "            except:\n",
    "                pass\n",
    "        "
   ]
  }
 ],
 "metadata": {
  "kernelspec": {
   "display_name": "Python 3",
   "language": "python",
   "name": "python3"
  },
  "language_info": {
   "codemirror_mode": {
    "name": "ipython",
    "version": 3
   },
   "file_extension": ".py",
   "mimetype": "text/x-python",
   "name": "python",
   "nbconvert_exporter": "python",
   "pygments_lexer": "ipython3",
   "version": "3.9.0"
  }
 },
 "nbformat": 4,
 "nbformat_minor": 5
}
